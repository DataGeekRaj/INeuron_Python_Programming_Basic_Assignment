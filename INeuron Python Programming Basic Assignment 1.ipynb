{
 "cells": [
  {
   "cell_type": "markdown",
   "metadata": {},
   "source": [
    "# 1.Write a Python program to print 'Hello Python' ?"
   ]
  },
  {
   "cell_type": "code",
   "execution_count": 1,
   "metadata": {},
   "outputs": [
    {
     "name": "stdout",
     "output_type": "stream",
     "text": [
      "Hello Python\n"
     ]
    }
   ],
   "source": [
    "print(\"Hello Python\")"
   ]
  },
  {
   "cell_type": "markdown",
   "metadata": {},
   "source": [
    "# 2.Write a Python program to do arithmetic operations addition and division ?"
   ]
  },
  {
   "cell_type": "code",
   "execution_count": 3,
   "metadata": {},
   "outputs": [
    {
     "name": "stdout",
     "output_type": "stream",
     "text": [
      "30\n",
      "2.0\n"
     ]
    }
   ],
   "source": [
    "def add(a,b):\n",
    "    return a+b\n",
    "\n",
    "def div(a,b):\n",
    "    if b==0 or a==0:\n",
    "        return \"ERROr\"\n",
    "    else:\n",
    "        return a/b\n",
    "\n",
    "a=20\n",
    "b=10\n",
    "print(add(a,b))\n",
    "print(div(a,b))\n",
    "    "
   ]
  },
  {
   "cell_type": "code",
   "execution_count": 4,
   "metadata": {},
   "outputs": [
    {
     "name": "stdout",
     "output_type": "stream",
     "text": [
      "ERROr\n"
     ]
    }
   ],
   "source": [
    "b=0\n",
    "print(div(a,b))"
   ]
  },
  {
   "cell_type": "markdown",
   "metadata": {},
   "source": [
    "# 3.Write a Python program to find the area of a triangle ?"
   ]
  },
  {
   "cell_type": "code",
   "execution_count": 9,
   "metadata": {},
   "outputs": [
    {
     "name": "stdout",
     "output_type": "stream",
     "text": [
      "Enter the Height6\n",
      "Enter the Base2\n",
      "Area of Traingle:- 6.0\n"
     ]
    }
   ],
   "source": [
    "Height=int(input(\"Enter the Height\"))\n",
    "Base=int(input(\"Enter the Base\"))\n",
    "\n",
    "def areaofTriange(Height,Base):\n",
    "    print(\"Area of Traingle:-\",0.5*Base*Height)\n",
    "\n",
    "areaofTriange(Height,Base)\n",
    "    "
   ]
  },
  {
   "cell_type": "markdown",
   "metadata": {},
   "source": [
    "# 4.Write a Python program to swap two variables ?"
   ]
  },
  {
   "cell_type": "code",
   "execution_count": 10,
   "metadata": {},
   "outputs": [
    {
     "name": "stdout",
     "output_type": "stream",
     "text": [
      "Enter First Number: 6\n",
      "Enter Second Number: 8\n",
      "Before swapping:-  6 8\n",
      "After swapping:-  8 6\n"
     ]
    }
   ],
   "source": [
    "num_1 = int(input(\"Enter First Number: \"))\n",
    "num_2 = int(input(\"Enter Second Number: \"))\n",
    "\n",
    "def swapNumbers(a,b):\n",
    "    temp_Var = a\n",
    "    a = b\n",
    "    b = temp_Var\n",
    "    return a,b\n",
    "\n",
    "print('Before swapping:- ',num_1, num_2)\n",
    "num_1, num_2 = swapNumbers(num_1, num_2)\n",
    "print('After swapping:- ',num_1,num_2)\n"
   ]
  },
  {
   "cell_type": "markdown",
   "metadata": {},
   "source": [
    "# 5.Write a Python program to generate a random number ?"
   ]
  },
  {
   "cell_type": "code",
   "execution_count": 11,
   "metadata": {},
   "outputs": [],
   "source": [
    "from random import randint"
   ]
  },
  {
   "cell_type": "code",
   "execution_count": 13,
   "metadata": {},
   "outputs": [
    {
     "name": "stdout",
     "output_type": "stream",
     "text": [
      "Random number:-  864076828\n",
      "Random number:-  30\n"
     ]
    }
   ],
   "source": [
    "def random_number_generator(start=0, end=999999999):\n",
    "    print('Random number:- ',randint(start,end))\n",
    "\n",
    "# Generating random numbers without arguments    \n",
    "random_number_generator()\n",
    "\n",
    "# Generating random numbers with arguments    \n",
    "random_number_generator(0,100)"
   ]
  },
  {
   "cell_type": "code",
   "execution_count": 14,
   "metadata": {},
   "outputs": [
    {
     "name": "stdout",
     "output_type": "stream",
     "text": [
      "Random number:-  668755830\n",
      "Random number:-  13\n"
     ]
    }
   ],
   "source": [
    "def random_number_generator(start=0, end=999999999):\n",
    "    print('Random number:- ',randint(start,end))\n",
    "\n",
    "# Generating random numbers without arguments    \n",
    "random_number_generator()\n",
    "\n",
    "# Generating random numbers with arguments    \n",
    "random_number_generator(0,100)"
   ]
  },
  {
   "cell_type": "code",
   "execution_count": 15,
   "metadata": {},
   "outputs": [
    {
     "name": "stdout",
     "output_type": "stream",
     "text": [
      "Random number:-  245304542\n",
      "Random number:-  33\n"
     ]
    }
   ],
   "source": [
    "def random_number_generator(start=0, end=999999999):\n",
    "    print('Random number:- ',randint(start,end))\n",
    "\n",
    "# Generating random numbers without arguments    \n",
    "random_number_generator()\n",
    "\n",
    "# Generating random numbers with arguments    \n",
    "random_number_generator(0,100)"
   ]
  },
  {
   "cell_type": "code",
   "execution_count": null,
   "metadata": {},
   "outputs": [],
   "source": []
  }
 ],
 "metadata": {
  "kernelspec": {
   "display_name": "Python 3",
   "language": "python",
   "name": "python3"
  },
  "language_info": {
   "codemirror_mode": {
    "name": "ipython",
    "version": 3
   },
   "file_extension": ".py",
   "mimetype": "text/x-python",
   "name": "python",
   "nbconvert_exporter": "python",
   "pygments_lexer": "ipython3",
   "version": "3.7.6"
  }
 },
 "nbformat": 4,
 "nbformat_minor": 4
}
