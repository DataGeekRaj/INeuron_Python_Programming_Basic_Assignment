{
 "cells": [
  {
   "cell_type": "markdown",
   "metadata": {},
   "source": [
    "# LCM"
   ]
  },
  {
   "cell_type": "code",
   "execution_count": 6,
   "metadata": {},
   "outputs": [
    {
     "name": "stdout",
     "output_type": "stream",
     "text": [
      "Enter the number1:3\n",
      "Enter the number2:6\n",
      "LCM is: 6\n"
     ]
    }
   ],
   "source": [
    "def lcm(num1,num2):\n",
    "    if num1>num2:\n",
    "        greater=num1\n",
    "    else:\n",
    "        greater=num2\n",
    "    while(True):\n",
    "        if((greater%num1==0) and (greater%num2==0)):\n",
    "            lcm=greater\n",
    "            break\n",
    "        else:\n",
    "            greater+=1\n",
    "    print(\"LCM is:\",lcm)\n",
    "    \n",
    "num1=int(input(\"Enter the number1:\"))\n",
    "num2=int(input(\"Enter the number2:\"))\n",
    "lcm(num1,num2)"
   ]
  },
  {
   "cell_type": "markdown",
   "metadata": {},
   "source": [
    "# HCF"
   ]
  },
  {
   "cell_type": "code",
   "execution_count": 13,
   "metadata": {},
   "outputs": [
    {
     "name": "stdout",
     "output_type": "stream",
     "text": [
      "Enter the Number:6\n",
      "Enter the Number:12\n",
      "HCF is: <function hcf at 0x00000262FB47B0D8>\n"
     ]
    }
   ],
   "source": [
    "def hcf(n1,n2):\n",
    "    if n1>n2:\n",
    "        smaller=n2\n",
    "    else:\n",
    "        smaller=n1\n",
    "    for i in range(1,smaller+1):\n",
    "        if((n1%i==0) and (n2%i==0)):\n",
    "            gcf=i\n",
    "    print(\"HCF is:\",hcf)\n",
    "\n",
    "n1=int(input(\"Enter the Number:\"))\n",
    "n2=int(input(\"Enter the Number:\"))\n",
    "hcf(n1,n2)"
   ]
  },
  {
   "cell_type": "markdown",
   "metadata": {},
   "source": [
    "# Decimal to Others\n"
   ]
  },
  {
   "cell_type": "code",
   "execution_count": 11,
   "metadata": {},
   "outputs": [
    {
     "name": "stdout",
     "output_type": "stream",
     "text": [
      "Enter a Number: 8\n",
      "Binary Number -> 0b1000\n",
      "Octal Number -> 0o10\n",
      "Hexadecimal Number -> 0x8\n"
     ]
    }
   ],
   "source": [
    "def DecimalToOther():\n",
    "    num = int(input('Enter a Number: '))\n",
    "    print(f'Binary Number -> {bin(num)}')\n",
    "    print(f'Octal Number -> {oct(num)}')    \n",
    "    print(f'Hexadecimal Number -> {hex(num)}')    \n",
    "\n",
    "DecimalToOther()"
   ]
  },
  {
   "cell_type": "markdown",
   "metadata": {},
   "source": [
    "# ASCII of the characters"
   ]
  },
  {
   "cell_type": "code",
   "execution_count": 24,
   "metadata": {},
   "outputs": [
    {
     "name": "stdout",
     "output_type": "stream",
     "text": [
      "Enter the string:Shubham Raj\n",
      "S \t 83\n",
      "h \t 104\n",
      "u \t 117\n",
      "b \t 98\n",
      "h \t 104\n",
      "a \t 97\n",
      "m \t 109\n",
      "  \t 32\n",
      "R \t 82\n",
      "a \t 97\n",
      "j \t 106\n"
     ]
    }
   ],
   "source": [
    "def charToAScii(char):\n",
    "    char_length=len(char)\n",
    "    for i in char:\n",
    "        ascii=ord(i)\n",
    "        print(i,\"\\t\",ascii)\n",
    "char=input(\"Enter the string:\")\n",
    "charToAScii(char)"
   ]
  },
  {
   "cell_type": "markdown",
   "metadata": {},
   "source": [
    "# Calculator"
   ]
  },
  {
   "cell_type": "code",
   "execution_count": null,
   "metadata": {},
   "outputs": [],
   "source": [
    "import operator\n",
    "\n",
    "ops = { \"+\": operator.add, \"-\": operator.sub, \"*\":operator.mul, \"/\":operator.truediv } \n",
    "\n",
    "print('Select a Arithmetic Operation: \\\n",
    "        \\n1.Addition(+)\\\n",
    "        \\n2.Division(-)\\\n",
    "        \\n2.Multiplication(*)\\\n",
    "        \\n4.Division(/)\\\n",
    "        \\n3.Stop(0)\\n')\n",
    "   \n",
    "\n",
    "while True:\n",
    "    operator = input('Enter a arithmetic operation -> ')\n",
    "    if operator == '0':\n",
    "        print(\"Program Stopped successfully\")\n",
    "        break\n",
    "    elif operator not in ['+','-','*','/']:\n",
    "        print(\"Please enter a valid operator\")\n",
    "    else:\n",
    "        num_1 = int(input('\\nEnter 1st Number: '))\n",
    "        num_2 = int(input('Enter 2nd Number: '))\n",
    "        print(f'{num_1}{operator}{num_2}={ops[operator](num_1,num_2)}\\n')"
   ]
  },
  {
   "cell_type": "code",
   "execution_count": null,
   "metadata": {},
   "outputs": [],
   "source": []
  }
 ],
 "metadata": {
  "kernelspec": {
   "display_name": "Python 3",
   "language": "python",
   "name": "python3"
  },
  "language_info": {
   "codemirror_mode": {
    "name": "ipython",
    "version": 3
   },
   "file_extension": ".py",
   "mimetype": "text/x-python",
   "name": "python",
   "nbconvert_exporter": "python",
   "pygments_lexer": "ipython3",
   "version": "3.7.6"
  }
 },
 "nbformat": 4,
 "nbformat_minor": 4
}
